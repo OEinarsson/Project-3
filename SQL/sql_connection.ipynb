{
 "cells": [
  {
   "cell_type": "code",
   "execution_count": 1,
   "metadata": {},
   "outputs": [],
   "source": [
    "# Import dependencies\n",
    "from sqlalchemy import create_engine, Column, Integer, String, Float, DateTime\n",
    "from sqlalchemy.ext.declarative import declarative_base\n",
    "from sqlalchemy.orm import Session\n",
    "import pandas as pd\n",
    "import csv"
   ]
  },
  {
   "attachments": {},
   "cell_type": "markdown",
   "metadata": {},
   "source": [
    "# Bigfoot data to database"
   ]
  },
  {
   "cell_type": "code",
   "execution_count": 2,
   "metadata": {},
   "outputs": [
    {
     "name": "stderr",
     "output_type": "stream",
     "text": [
      "C:\\Users\\Person\\AppData\\Local\\Temp\\ipykernel_3632\\1190236465.py:8: MovedIn20Warning: The ``declarative_base()`` function is now available as sqlalchemy.orm.declarative_base(). (deprecated since: 2.0) (Background on SQLAlchemy 2.0 at: https://sqlalche.me/e/b8d9)\n",
      "  Base = declarative_base()\n"
     ]
    }
   ],
   "source": [
    "# Bigfoot csv to database table\n",
    "# Read data from bigfoot_data.csv\n",
    "data = pd.read_csv(\"../Data Cleaning/resources/bigfoot_data.csv\")\n",
    "bfData = pd.DataFrame(data).drop(columns = [\"Unnamed: 0\"])\n",
    "bfData[\"timestamp\"] = pd.to_datetime(bfData[\"timestamp\"])\n",
    "\n",
    "# Sets an object for default declarative base in SQL Alchemy\n",
    "Base = declarative_base()\n",
    "\n",
    "# Creates Class as the anchor points for our Table\n",
    "class Bigfoot(Base):\n",
    "    __tablename__ = 'bigfoot'\n",
    "    id = Column(Integer, primary_key=True)\n",
    "    sightingNumber = Column(Integer)\n",
    "    title = Column(String(255))\n",
    "    timeOfSighting = Column(DateTime)\n",
    "    latitude = Column(Float)\n",
    "    longitude = Column(Float)\n",
    "    observed = Column(String)\n",
    "    locationDetails = Column(String)\n",
    "    stateName = Column(String(15))\n",
    "    summary = Column(String)\n",
    "\n",
    "# Creates a connection to our DB\n",
    "engine = create_engine(\"sqlite:///Supnatural_Map.sqlite\")\n",
    "conn = engine.connect()\n",
    "\n",
    "# Create the tables associated with our classes\n",
    "Base.metadata.create_all(engine)\n",
    "\n",
    "# Temporarily bind to DB\n",
    "session = Session(bind=engine)\n",
    "\n",
    "# Bigfoot DF to SQL table\n",
    "# For each row in DF ...\n",
    "for index, row in bfData.iterrows():\n",
    "    # Collect information and set correct columns to be inserted\n",
    "    bigfoot = Bigfoot(sightingNumber = row[0], title = row[1],\n",
    "                    timeOfSighting = row[2], latitude = row[3],\n",
    "                    longitude = row[4], observed = row[5], \n",
    "                    locationDetails = row[6], stateName = row[7],\n",
    "                    summary = row[8])\n",
    "    # Add new information with SQLalchemy INSERT function\n",
    "    session.add(bigfoot)\n",
    "    # Commit to DB\n",
    "    session.commit()"
   ]
  },
  {
   "attachments": {},
   "cell_type": "markdown",
   "metadata": {},
   "source": [
    "# UFO data to database"
   ]
  },
  {
   "cell_type": "code",
   "execution_count": 3,
   "metadata": {},
   "outputs": [
    {
     "name": "stdout",
     "output_type": "stream",
     "text": [
      "<class 'pandas.core.frame.DataFrame'>\n",
      "RangeIndex: 91945 entries, 0 to 91944\n",
      "Data columns (total 8 columns):\n",
      " #   Column       Non-Null Count  Dtype         \n",
      "---  ------       --------------  -----         \n",
      " 0   country      91945 non-null  object        \n",
      " 1   state        91945 non-null  object        \n",
      " 2   datetime     91945 non-null  datetime64[ns]\n",
      " 3   shape        91945 non-null  object        \n",
      " 4   duration     91945 non-null  object        \n",
      " 5   description  91945 non-null  object        \n",
      " 6   latitude     91945 non-null  float64       \n",
      " 7   longitude    91945 non-null  float64       \n",
      "dtypes: datetime64[ns](1), float64(2), object(5)\n",
      "memory usage: 5.6+ MB\n"
     ]
    }
   ],
   "source": [
    "data = pd.read_csv(\"../Data Cleaning/resources/ufo_data.csv\")\n",
    "ufo_sliced = pd.DataFrame(data).drop(columns = [\"Unnamed: 0\"])\n",
    "ufo_sliced[\"datetime\"] = pd.to_datetime(ufo_sliced[\"datetime\"])\n",
    "ufo_sliced.info()"
   ]
  },
  {
   "cell_type": "code",
   "execution_count": 4,
   "metadata": {},
   "outputs": [
    {
     "name": "stderr",
     "output_type": "stream",
     "text": [
      "C:\\Users\\Person\\AppData\\Local\\Temp\\ipykernel_3632\\2604687689.py:8: MovedIn20Warning: The ``declarative_base()`` function is now available as sqlalchemy.orm.declarative_base(). (deprecated since: 2.0) (Background on SQLAlchemy 2.0 at: https://sqlalche.me/e/b8d9)\n",
      "  Base = declarative_base()\n"
     ]
    }
   ],
   "source": [
    "# UFO csv to database table\n",
    "# Read data from ufo_data.csv\n",
    "data = pd.read_csv(\"../Data Cleaning/resources/ufo_data.csv\")\n",
    "ufo_sliced = pd.DataFrame(data).drop(columns = [\"Unnamed: 0\"])\n",
    "ufo_sliced[\"datetime\"] = pd.to_datetime(ufo_sliced[\"datetime\"])\n",
    "\n",
    "# Sets an object for default declarative base in SQL Alchemy\n",
    "Base = declarative_base()\n",
    "\n",
    "# Creates Class as the anchor points for our Table\n",
    "class UFO(Base):\n",
    "    __tablename__ = 'ufo'\n",
    "    id = Column(Integer, primary_key=True)\n",
    "    country = Column(String(50))\n",
    "    stateCode = Column(String(2))\n",
    "    timeOfSighting = Column(DateTime)\n",
    "    shape = Column(String(20))\n",
    "    duration = Column(String(30))\n",
    "    summary = Column(String)\n",
    "    latitude = Column(Float)\n",
    "    longitude = Column(Float)\n",
    "\n",
    "# Creates a connection to our DB\n",
    "engine = create_engine(\"sqlite:///Supnatural_Map.sqlite\")\n",
    "conn = engine.connect()\n",
    "\n",
    "# Create the tables associated with our classes\n",
    "Base.metadata.create_all(engine)\n",
    "\n",
    "# Temporarily bind to DB\n",
    "session = Session(bind=engine)\n",
    "\n",
    "# UFO DF to SQL table\n",
    "# For each row in DF ...\n",
    "for index, row in ufo_sliced.iterrows():\n",
    "    # Collect information and set correct columns to be inserted\n",
    "    ufo = UFO(country = row[0], stateCode = row[1],\n",
    "                    timeOfSighting = row[2], shape = row[3],\n",
    "                    duration = row[4], summary = row[5], \n",
    "                    latitude = row[6], longitude = row[7])\n",
    "    # Add new information with SQLalchemy INSERT function\n",
    "    session.add(ufo)\n",
    "    # Commit to DB\n",
    "    session.commit()"
   ]
  },
  {
   "attachments": {},
   "cell_type": "markdown",
   "metadata": {},
   "source": [
    "# Haunting data to database"
   ]
  },
  {
   "cell_type": "code",
   "execution_count": 5,
   "metadata": {},
   "outputs": [
    {
     "name": "stderr",
     "output_type": "stream",
     "text": [
      "C:\\Users\\Person\\AppData\\Local\\Temp\\ipykernel_3632\\1027572709.py:7: MovedIn20Warning: The ``declarative_base()`` function is now available as sqlalchemy.orm.declarative_base(). (deprecated since: 2.0) (Background on SQLAlchemy 2.0 at: https://sqlalche.me/e/b8d9)\n",
      "  Base = declarative_base()\n"
     ]
    }
   ],
   "source": [
    "# Haunting csv to database table\n",
    "# Read data from hauntedplaces_data.csv\n",
    "data = pd.read_csv(\"../Data Cleaning/resources/hauntedplaces_data.csv\")\n",
    "hauntedPlaces = pd.DataFrame(data).drop(columns = [\"Unnamed: 0\"])\n",
    "\n",
    "# Sets an object for default declarative base in SQL Alchemy\n",
    "Base = declarative_base()\n",
    "\n",
    "# Creates Class as the anchor points for our Table\n",
    "class Hauntings(Base):\n",
    "    __tablename__ = 'hauntings'\n",
    "    id = Column(Integer, primary_key=True)\n",
    "    country = Column(String(50))\n",
    "    summary = Column(String)  \n",
    "    locationDetails = Column(String)\n",
    "    stateCode = Column(String(2))\n",
    "    longitude = Column(Float)\n",
    "    latitude = Column(Float)\n",
    "\n",
    "\n",
    "# Creates a connection to our DB\n",
    "engine = create_engine(\"sqlite:///Supnatural_Map.sqlite\")\n",
    "conn = engine.connect()\n",
    "\n",
    "# Create the tables associated with our classes\n",
    "Base.metadata.create_all(engine)\n",
    "\n",
    "# Temporarily bind to DB\n",
    "session = Session(bind=engine)\n",
    "\n",
    "# Haunted Places DF to SQL table\n",
    "# For each row in DF ...\n",
    "for index, row in hauntedPlaces.iterrows():\n",
    "    # Collect information and set correct columns to be inserted\n",
    "    haunt = Hauntings(country = row[0], summary = row[1],\n",
    "                    locationDetails = row[2], stateCode = row[3],\n",
    "                    longitude = row[4], latitude = row[5])\n",
    "    # Add new information with SQLalchemy INSERT function\n",
    "    session.add(haunt)\n",
    "    # Commit to DB\n",
    "    session.commit()"
   ]
  }
 ],
 "metadata": {
  "kernelspec": {
   "display_name": "Test",
   "language": "python",
   "name": "python3"
  },
  "language_info": {
   "codemirror_mode": {
    "name": "ipython",
    "version": 3
   },
   "file_extension": ".py",
   "mimetype": "text/x-python",
   "name": "python",
   "nbconvert_exporter": "python",
   "pygments_lexer": "ipython3",
   "version": "3.10.11"
  },
  "orig_nbformat": 4
 },
 "nbformat": 4,
 "nbformat_minor": 2
}
